{
 "cells": [
  {
   "cell_type": "markdown",
   "id": "acquired-preference",
   "metadata": {},
   "source": [
    "# CAPM Model:\n",
    "  The Capital Asset Pricing Model (CAPM) describes the relationship        between systematic risk and expected return for assets, particularly     stocks. CAPM is widely used throughout finance for pricing risky         securities and generating expected returns for assets given the risk     of those assets and cost of capital.\n",
    "\n",
    "  \n",
    "# Prerequisites"
   ]
  },
  {
   "cell_type": "code",
   "execution_count": 1,
   "id": "touched-jason",
   "metadata": {},
   "outputs": [],
   "source": [
    "import pandas as pd\n",
    "import numpy as np\n",
    "import matplotlib.pyplot as plt \n",
    "from sklearn.linear_model import LinearRegression\n",
    "from yahoofinancials import YahooFinancials"
   ]
  },
  {
   "cell_type": "code",
   "execution_count": 2,
   "id": "patient-shoulder",
   "metadata": {},
   "outputs": [],
   "source": [
    "df1 = pd.read_csv('NSEI.csv')\n",
    "df1['Date'] = pd.to_datetime(df1['Date']).dt.strftime('%d/%m/%Y')\n",
    "df2 = pd.read_csv('RELIANCE.NS.csv')\n",
    "df2['Date'] = pd.to_datetime(df2['Date']).dt.strftime('%d/%m/%Y')"
   ]
  },
  {
   "cell_type": "code",
   "execution_count": 3,
   "id": "ordered-brighton",
   "metadata": {},
   "outputs": [
    {
     "data": {
      "text/html": [
       "<div>\n",
       "<style scoped>\n",
       "    .dataframe tbody tr th:only-of-type {\n",
       "        vertical-align: middle;\n",
       "    }\n",
       "\n",
       "    .dataframe tbody tr th {\n",
       "        vertical-align: top;\n",
       "    }\n",
       "\n",
       "    .dataframe thead th {\n",
       "        text-align: right;\n",
       "    }\n",
       "</style>\n",
       "<table border=\"1\" class=\"dataframe\">\n",
       "  <thead>\n",
       "    <tr style=\"text-align: right;\">\n",
       "      <th></th>\n",
       "      <th>Date</th>\n",
       "      <th>Open</th>\n",
       "      <th>High</th>\n",
       "      <th>Low</th>\n",
       "      <th>Close</th>\n",
       "      <th>Adj Close</th>\n",
       "      <th>Volume</th>\n",
       "    </tr>\n",
       "  </thead>\n",
       "  <tbody>\n",
       "    <tr>\n",
       "      <th>0</th>\n",
       "      <td>01/03/2016</td>\n",
       "      <td>7038.250000</td>\n",
       "      <td>7777.600098</td>\n",
       "      <td>7035.100098</td>\n",
       "      <td>7738.399902</td>\n",
       "      <td>7738.399902</td>\n",
       "      <td>4809600.0</td>\n",
       "    </tr>\n",
       "    <tr>\n",
       "      <th>1</th>\n",
       "      <td>01/04/2016</td>\n",
       "      <td>7718.049805</td>\n",
       "      <td>7992.000000</td>\n",
       "      <td>7516.850098</td>\n",
       "      <td>7849.799805</td>\n",
       "      <td>7849.799805</td>\n",
       "      <td>3538800.0</td>\n",
       "    </tr>\n",
       "    <tr>\n",
       "      <th>2</th>\n",
       "      <td>01/05/2016</td>\n",
       "      <td>7822.700195</td>\n",
       "      <td>8213.599609</td>\n",
       "      <td>7678.350098</td>\n",
       "      <td>8160.100098</td>\n",
       "      <td>8160.100098</td>\n",
       "      <td>4361300.0</td>\n",
       "    </tr>\n",
       "    <tr>\n",
       "      <th>3</th>\n",
       "      <td>01/06/2016</td>\n",
       "      <td>8179.200195</td>\n",
       "      <td>8308.150391</td>\n",
       "      <td>7927.049805</td>\n",
       "      <td>8287.750000</td>\n",
       "      <td>8287.750000</td>\n",
       "      <td>4193500.0</td>\n",
       "    </tr>\n",
       "    <tr>\n",
       "      <th>4</th>\n",
       "      <td>01/07/2016</td>\n",
       "      <td>8313.049805</td>\n",
       "      <td>8674.700195</td>\n",
       "      <td>8287.549805</td>\n",
       "      <td>8638.500000</td>\n",
       "      <td>8638.500000</td>\n",
       "      <td>3321700.0</td>\n",
       "    </tr>\n",
       "  </tbody>\n",
       "</table>\n",
       "</div>"
      ],
      "text/plain": [
       "         Date         Open         High          Low        Close  \\\n",
       "0  01/03/2016  7038.250000  7777.600098  7035.100098  7738.399902   \n",
       "1  01/04/2016  7718.049805  7992.000000  7516.850098  7849.799805   \n",
       "2  01/05/2016  7822.700195  8213.599609  7678.350098  8160.100098   \n",
       "3  01/06/2016  8179.200195  8308.150391  7927.049805  8287.750000   \n",
       "4  01/07/2016  8313.049805  8674.700195  8287.549805  8638.500000   \n",
       "\n",
       "     Adj Close     Volume  \n",
       "0  7738.399902  4809600.0  \n",
       "1  7849.799805  3538800.0  \n",
       "2  8160.100098  4361300.0  \n",
       "3  8287.750000  4193500.0  \n",
       "4  8638.500000  3321700.0  "
      ]
     },
     "execution_count": 3,
     "metadata": {},
     "output_type": "execute_result"
    }
   ],
   "source": [
    "df1.head()"
   ]
  },
  {
   "cell_type": "code",
   "execution_count": 4,
   "id": "excessive-anniversary",
   "metadata": {},
   "outputs": [
    {
     "data": {
      "text/html": [
       "<div>\n",
       "<style scoped>\n",
       "    .dataframe tbody tr th:only-of-type {\n",
       "        vertical-align: middle;\n",
       "    }\n",
       "\n",
       "    .dataframe tbody tr th {\n",
       "        vertical-align: top;\n",
       "    }\n",
       "\n",
       "    .dataframe thead th {\n",
       "        text-align: right;\n",
       "    }\n",
       "</style>\n",
       "<table border=\"1\" class=\"dataframe\">\n",
       "  <thead>\n",
       "    <tr style=\"text-align: right;\">\n",
       "      <th></th>\n",
       "      <th>Date</th>\n",
       "      <th>Open</th>\n",
       "      <th>High</th>\n",
       "      <th>Low</th>\n",
       "      <th>Close</th>\n",
       "      <th>Adj Close</th>\n",
       "      <th>Volume</th>\n",
       "    </tr>\n",
       "  </thead>\n",
       "  <tbody>\n",
       "    <tr>\n",
       "      <th>0</th>\n",
       "      <td>01/03/2016</td>\n",
       "      <td>477.820740</td>\n",
       "      <td>523.042114</td>\n",
       "      <td>477.795959</td>\n",
       "      <td>517.692810</td>\n",
       "      <td>500.860779</td>\n",
       "      <td>143481484.0</td>\n",
       "    </tr>\n",
       "    <tr>\n",
       "      <th>1</th>\n",
       "      <td>01/04/2016</td>\n",
       "      <td>514.671448</td>\n",
       "      <td>529.926819</td>\n",
       "      <td>484.829315</td>\n",
       "      <td>486.736237</td>\n",
       "      <td>475.800232</td>\n",
       "      <td>161217673.0</td>\n",
       "    </tr>\n",
       "    <tr>\n",
       "      <th>2</th>\n",
       "      <td>01/05/2016</td>\n",
       "      <td>484.903595</td>\n",
       "      <td>492.803711</td>\n",
       "      <td>458.479065</td>\n",
       "      <td>474.427887</td>\n",
       "      <td>463.768402</td>\n",
       "      <td>137694499.0</td>\n",
       "    </tr>\n",
       "    <tr>\n",
       "      <th>3</th>\n",
       "      <td>01/06/2016</td>\n",
       "      <td>474.477417</td>\n",
       "      <td>492.407471</td>\n",
       "      <td>462.317688</td>\n",
       "      <td>480.024841</td>\n",
       "      <td>469.239655</td>\n",
       "      <td>120539575.0</td>\n",
       "    </tr>\n",
       "    <tr>\n",
       "      <th>4</th>\n",
       "      <td>01/07/2016</td>\n",
       "      <td>481.807953</td>\n",
       "      <td>514.498047</td>\n",
       "      <td>480.445862</td>\n",
       "      <td>502.685059</td>\n",
       "      <td>491.390686</td>\n",
       "      <td>107208849.0</td>\n",
       "    </tr>\n",
       "  </tbody>\n",
       "</table>\n",
       "</div>"
      ],
      "text/plain": [
       "         Date        Open        High         Low       Close   Adj Close  \\\n",
       "0  01/03/2016  477.820740  523.042114  477.795959  517.692810  500.860779   \n",
       "1  01/04/2016  514.671448  529.926819  484.829315  486.736237  475.800232   \n",
       "2  01/05/2016  484.903595  492.803711  458.479065  474.427887  463.768402   \n",
       "3  01/06/2016  474.477417  492.407471  462.317688  480.024841  469.239655   \n",
       "4  01/07/2016  481.807953  514.498047  480.445862  502.685059  491.390686   \n",
       "\n",
       "        Volume  \n",
       "0  143481484.0  \n",
       "1  161217673.0  \n",
       "2  137694499.0  \n",
       "3  120539575.0  \n",
       "4  107208849.0  "
      ]
     },
     "execution_count": 4,
     "metadata": {},
     "output_type": "execute_result"
    }
   ],
   "source": [
    "df2.head()"
   ]
  },
  {
   "cell_type": "code",
   "execution_count": 5,
   "id": "accepted-physics",
   "metadata": {},
   "outputs": [],
   "source": [
    "df_volume = pd.DataFrame(pd.merge(df1, df2, on = 'Date')[['Date', 'Volume_x', 'Volume_y']])"
   ]
  },
  {
   "cell_type": "markdown",
   "id": "domestic-appeal",
   "metadata": {},
   "source": [
    "# NaN values removal"
   ]
  },
  {
   "cell_type": "code",
   "execution_count": 6,
   "id": "growing-pharmacology",
   "metadata": {},
   "outputs": [],
   "source": [
    "df_volume.dropna(inplace = True)"
   ]
  },
  {
   "cell_type": "code",
   "execution_count": 7,
   "id": "primary-advertising",
   "metadata": {},
   "outputs": [
    {
     "data": {
      "text/html": [
       "<div>\n",
       "<style scoped>\n",
       "    .dataframe tbody tr th:only-of-type {\n",
       "        vertical-align: middle;\n",
       "    }\n",
       "\n",
       "    .dataframe tbody tr th {\n",
       "        vertical-align: top;\n",
       "    }\n",
       "\n",
       "    .dataframe thead th {\n",
       "        text-align: right;\n",
       "    }\n",
       "</style>\n",
       "<table border=\"1\" class=\"dataframe\">\n",
       "  <thead>\n",
       "    <tr style=\"text-align: right;\">\n",
       "      <th></th>\n",
       "      <th>Date</th>\n",
       "      <th>Market Volume</th>\n",
       "      <th>Stock Volume</th>\n",
       "    </tr>\n",
       "  </thead>\n",
       "  <tbody>\n",
       "    <tr>\n",
       "      <th>0</th>\n",
       "      <td>01/03/2016</td>\n",
       "      <td>4809600.0</td>\n",
       "      <td>143481484.0</td>\n",
       "    </tr>\n",
       "    <tr>\n",
       "      <th>1</th>\n",
       "      <td>01/04/2016</td>\n",
       "      <td>3538800.0</td>\n",
       "      <td>161217673.0</td>\n",
       "    </tr>\n",
       "    <tr>\n",
       "      <th>2</th>\n",
       "      <td>01/05/2016</td>\n",
       "      <td>4361300.0</td>\n",
       "      <td>137694499.0</td>\n",
       "    </tr>\n",
       "    <tr>\n",
       "      <th>3</th>\n",
       "      <td>01/06/2016</td>\n",
       "      <td>4193500.0</td>\n",
       "      <td>120539575.0</td>\n",
       "    </tr>\n",
       "    <tr>\n",
       "      <th>4</th>\n",
       "      <td>01/07/2016</td>\n",
       "      <td>3321700.0</td>\n",
       "      <td>107208849.0</td>\n",
       "    </tr>\n",
       "  </tbody>\n",
       "</table>\n",
       "</div>"
      ],
      "text/plain": [
       "         Date  Market Volume  Stock Volume\n",
       "0  01/03/2016      4809600.0   143481484.0\n",
       "1  01/04/2016      3538800.0   161217673.0\n",
       "2  01/05/2016      4361300.0   137694499.0\n",
       "3  01/06/2016      4193500.0   120539575.0\n",
       "4  01/07/2016      3321700.0   107208849.0"
      ]
     },
     "execution_count": 7,
     "metadata": {},
     "output_type": "execute_result"
    }
   ],
   "source": [
    "df_volume.columns = ['Date', 'Market Volume', 'Stock Volume']\n",
    "df_volume.head()"
   ]
  },
  {
   "cell_type": "markdown",
   "id": "supported-olive",
   "metadata": {},
   "source": [
    "# Outlier Removal"
   ]
  },
  {
   "cell_type": "code",
   "execution_count": 8,
   "id": "coral-switzerland",
   "metadata": {},
   "outputs": [
    {
     "data": {
      "image/png": "[encoded data removed]",
      "text/plain": [
       "<Figure size 432x288 with 1 Axes>"
      ]
     },
     "metadata": {
      "needs_background": "light"
     },
     "output_type": "display_data"
    }
   ],
   "source": [
    "plt.boxplot(df_volume['Market Volume'])\n",
    "plt.show()"
   ]
  },
  {
   "cell_type": "code",
   "execution_count": 9,
   "id": "solid-trader",
   "metadata": {},
   "outputs": [
    {
     "data": {
      "image/png": "[encoded data removed]",
      "text/plain": [
       "<Figure size 432x288 with 1 Axes>"
      ]
     },
     "metadata": {
      "needs_background": "light"
     },
     "output_type": "display_data"
    }
   ],
   "source": [
    "plt.boxplot(df_volume['Stock Volume'])\n",
    "plt.show()"
   ]
  },
  {
   "cell_type": "code",
   "execution_count": 10,
   "id": "listed-frank",
   "metadata": {},
   "outputs": [],
   "source": [
    "Q1 = df_volume['Market Volume'].quantile(0.25)\n",
    "Q3 = df_volume['Market Volume'].quantile(0.75)\n",
    "IQR = Q3 - Q1 \n",
    "filter = (df_volume['Market Volume'] >= Q1 - 1.5 * IQR) & (df_volume['Market Volume'] <= Q3 + 1.5 *IQR)\n",
    "df_volume = df_volume.loc[filter] \n",
    "\n",
    "Q1 = df_volume['Stock Volume'].quantile(0.25)\n",
    "Q3 = df_volume['Stock Volume'].quantile(0.75)\n",
    "IQR = Q3 - Q1 \n",
    "filter = (df_volume['Stock Volume'] >= Q1 - 1.5 * IQR) & (df_volume['Stock Volume'] <= Q3 + 1.5 *IQR)\n",
    "df_volume = df_volume.loc[filter] "
   ]
  },
  {
   "cell_type": "markdown",
   "id": "improved-klein",
   "metadata": {},
   "source": [
    "# Formula for calculation of market return and stock prices:\n",
    "\n",
    "\\begin{aligned} &R_n = (C_n - C_{n-1})/ C_{n-1}  \\\\ &\\textbf{where:} \\\\ &R_n = \\text{return in month n} \\\\ &C_n = \\text{price in month n} \\\\ \\end{aligned} \n",
    "​\n"
   ]
  },
  {
   "cell_type": "code",
   "execution_count": 11,
   "id": "buried-texture",
   "metadata": {},
   "outputs": [],
   "source": [
    "df_volume['Market Volume'] = df_volume['Market Volume'].map(int)\n",
    "df_volume['Stock Volume'] = df_volume['Stock Volume'].map(int)\n",
    "df_returns = pd.DataFrame(columns = ['Market Returns', 'Stock Returns'])\n",
    "\n",
    "for i in range(0, len(df_volume)-1):\n",
    "    df_returns.loc[i] = [100*(df_volume.iloc[i+1, 1] - df_volume.iloc[i, 1])/df_volume.iloc[i, 1], 100*(df_volume.iloc[i+1, 2] - df_volume.iloc[i, 2])/df_volume.iloc[i, 2]]"
   ]
  },
  {
   "cell_type": "code",
   "execution_count": 12,
   "id": "registered-recruitment",
   "metadata": {},
   "outputs": [
    {
     "data": {
      "text/html": [
       "<div>\n",
       "<style scoped>\n",
       "    .dataframe tbody tr th:only-of-type {\n",
       "        vertical-align: middle;\n",
       "    }\n",
       "\n",
       "    .dataframe tbody tr th {\n",
       "        vertical-align: top;\n",
       "    }\n",
       "\n",
       "    .dataframe thead th {\n",
       "        text-align: right;\n",
       "    }\n",
       "</style>\n",
       "<table border=\"1\" class=\"dataframe\">\n",
       "  <thead>\n",
       "    <tr style=\"text-align: right;\">\n",
       "      <th></th>\n",
       "      <th>Market Returns</th>\n",
       "      <th>Stock Returns</th>\n",
       "    </tr>\n",
       "  </thead>\n",
       "  <tbody>\n",
       "    <tr>\n",
       "      <th>0</th>\n",
       "      <td>-26.422156</td>\n",
       "      <td>12.361309</td>\n",
       "    </tr>\n",
       "    <tr>\n",
       "      <th>1</th>\n",
       "      <td>23.242342</td>\n",
       "      <td>-14.590940</td>\n",
       "    </tr>\n",
       "    <tr>\n",
       "      <th>2</th>\n",
       "      <td>-3.847477</td>\n",
       "      <td>-12.458685</td>\n",
       "    </tr>\n",
       "    <tr>\n",
       "      <th>3</th>\n",
       "      <td>-20.789317</td>\n",
       "      <td>-11.059211</td>\n",
       "    </tr>\n",
       "    <tr>\n",
       "      <th>4</th>\n",
       "      <td>15.184996</td>\n",
       "      <td>16.431693</td>\n",
       "    </tr>\n",
       "  </tbody>\n",
       "</table>\n",
       "</div>"
      ],
      "text/plain": [
       "   Market Returns  Stock Returns\n",
       "0      -26.422156      12.361309\n",
       "1       23.242342     -14.590940\n",
       "2       -3.847477     -12.458685\n",
       "3      -20.789317     -11.059211\n",
       "4       15.184996      16.431693"
      ]
     },
     "execution_count": 12,
     "metadata": {},
     "output_type": "execute_result"
    }
   ],
   "source": [
    "df_returns.head()"
   ]
  },
  {
   "cell_type": "markdown",
   "id": "found-valuation",
   "metadata": {},
   "source": [
    "# Calculation using regression:\n",
    "The formula for calculating the expected return of an asset given its risk is as follows:\n",
    "\n",
    "\\begin{aligned} &ER_i = R_f + \\beta_i ( ER_m - R_f ) \\\\ &\\textbf{where:} \\\\ &ER_i = \\text{stock return} \\\\ &R_f = \\text{risk-free rate} \\\\ &R_m = \\text{market return}\\\\ &\\beta_i = \\text{beta of the investment} \\\\ &(ER_m - R_f) = \\text{market risk premium} \\\\ \\end{aligned} \n",
    "​\n",
    "​Each of these variables can be thought of using the slope-intercept framework where Re = y, B = slope, (Rm – Rf) = x, and Rf = y-intercept. Important insights to be gained from this framework are:\n",
    "\n",
    "1. An asset is expected to generate at least the risk-free rate of return.\n",
    "2. If the Beta of an individual stock or portfolio equals 1, then the return of the asset equals the average market return.\n",
    "3. The Beta coefficient represents the slope of the line of best fit for each Re – Rf (y) and Rm – Rf (x) excess return pair.\n",
    "\n",
    "\n",
    "\n",
    "\n",
    " "
   ]
  },
  {
   "cell_type": "code",
   "execution_count": 13,
   "id": "demonstrated-offer",
   "metadata": {},
   "outputs": [
    {
     "data": {
      "image/png": "[encoded data removed]",
      "text/plain": [
       "<Figure size 432x288 with 1 Axes>"
      ]
     },
     "metadata": {
      "needs_background": "light"
     },
     "output_type": "display_data"
    }
   ],
   "source": [
    "X = df_returns['Market Returns'].values.reshape(-1, 1)\n",
    "y = df_returns['Stock Returns'].values.reshape(-1, 1)\n",
    "linear_regressor = LinearRegression()\n",
    "linear_regressor.fit(X, y)\n",
    "y_pred = linear_regressor.predict(X)\n",
    "plt.scatter(X, y)\n",
    "plt.plot(X, y_pred, color='red')\n",
    "plt.show()"
   ]
  },
  {
   "cell_type": "code",
   "execution_count": 14,
   "id": "sixth-exemption",
   "metadata": {
    "scrolled": true
   },
   "outputs": [
    {
     "name": "stdout",
     "output_type": "stream",
     "text": [
      "Beta =  0.43540585299822576 \n",
      "Intercept =  3.5812209583696015\n"
     ]
    }
   ],
   "source": [
    "print('Beta = ', linear_regressor.coef_[0][0], '\\nIntercept = ', linear_regressor.intercept_[0])"
   ]
  },
  {
   "cell_type": "markdown",
   "id": "brief-healing",
   "metadata": {},
   "source": [
    "In the graph above, we plotted excess stock returns over excess market returns to find the line of best fit. However, we observe that this stock has a positive intercept value after accounting for the risk-free rate. This value represents Alpha, or the additional return expected from the stock when the market return is zero."
   ]
  },
  {
   "cell_type": "markdown",
   "id": "appreciated-steal",
   "metadata": {},
   "source": [
    "# Calculation with covariance and variance (market):\n",
    "\\begin{aligned} &\\beta_i = Covariance(R_e,R_m)/Variance(R_m) \\\\ \\end{aligned}\n",
    "\n",
    "One of the most popular uses of Beta is to estimate the cost of equity (Re) in valuation models. The CAPM estimates an asset’s Beta based on a single factor, which is the systematic risk of the market. The cost of equity derived by the CAPM reflects a reality in which most investors have diversified portfolios from which unsystematic risk has been successfully diversified away.\n",
    "\n",
    "​"
   ]
  },
  {
   "cell_type": "code",
   "execution_count": 15,
   "id": "changing-mortality",
   "metadata": {},
   "outputs": [
    {
     "name": "stdout",
     "output_type": "stream",
     "text": [
      "Covariance Matrix : \n",
      "\n",
      " [[419.01654633 182.44225678]\n",
      " [182.44225678 999.09227198]] \n",
      "\n",
      "Variance (Market Returns : ) 410.958535827895\n"
     ]
    }
   ],
   "source": [
    "cov = np.cov(np.array([df_returns['Market Returns'], df_returns['Stock Returns']]))\n",
    "var = np.var(df_returns['Market Returns'])\n",
    "\n",
    "print('Covariance Matrix : \\n\\n', cov, '\\n\\nVariance (Market Returns : )', var)"
   ]
  },
  {
   "cell_type": "code",
   "execution_count": 16,
   "id": "frequent-campbell",
   "metadata": {},
   "outputs": [
    {
     "name": "stdout",
     "output_type": "stream",
     "text": [
      "0.4428670635429255\n"
     ]
    }
   ],
   "source": [
    "beta = int(cov[0][1])/var\n",
    "print(beta)"
   ]
  },
  {
   "cell_type": "markdown",
   "id": "consolidated-department",
   "metadata": {},
   "source": [
    "# Advantages of the CAPM:\n",
    "The CAPM has several advantages over other methods of calculating required return, explaining why it has been popular for more than 40 years:\n",
    "\n",
    "1. It considers only systematic risk, reflecting a reality in which most investors have diversified portfolios from which unsystematic risk has been essentially eliminated.\n",
    "2. It is a theoretically-derived relationship between required return and systematic risk which has been subject to frequent empirical research and testing.\n",
    "3. It is generally seen as a much better method of calculating the cost of equity than the dividend growth model (DGM) in that it explicitly considers a company’s level of systematic risk relative to the stock market as a whole.\n",
    "4. It is clearly superior to the WACC in providing discount rates for use in investment appraisal"
   ]
  },
  {
   "cell_type": "code",
   "execution_count": null,
   "id": "f692a768",
   "metadata": {},
   "outputs": [],
   "source": [
    "# Disadvantages of CAPM:\n",
    "1. Too Many Assumptions:\n",
    "The CAPM model is based on too many assumptions, which many criticize as being unrealistic. Therefore, it may not provide the correct results.\n",
    "\n",
    "2. Assigning Values to CAPM Variables:\n",
    "Risk-free Rate (Rf): The commonly accepted rate used as the Rf is the yield on short-term government securities. The problem with using this input is that the yield changes daily, creating volatility.\n",
    "\n",
    "3. Ability to Borrow at Risk-free Rate\n",
    "There are four major assumptions of CAPM. One of the assumptions is that investor can borrow & lend the funds at the risk-free rate. This assumption is unrealistic for the real world. The individual investors are unable to borrow or lend at the same return as the US government.\n",
    "\n",
    "4. Determination of Project Proxy Beta\n",
    "The problem may arise in using the CAPM to calculate a project-specific discount rate. Generally, equity beta & portfolio/investment beta are different. Therefore, the company needs to find a proxy beta for the project."
   ]
  },
  {
   "cell_type": "markdown",
   "id": "interior-stuart",
   "metadata": {},
   "source": [
    "# Automatic beta Calculation for any Stock:"
   ]
  },
  {
   "cell_type": "code",
   "execution_count": 17,
   "id": "intimate-corruption",
   "metadata": {},
   "outputs": [
    {
     "name": "stdout",
     "output_type": "stream",
     "text": [
      "Start Date (YYYY-MM-DD) : 2016-03-01\n",
      "End Date (YYYY-MM-DD) : 2021-03-01\n",
      "Frequency : monthly\n",
      "Stock Name : RELIANCE.NS\n"
     ]
    }
   ],
   "source": [
    "start_date = str(input(\"Start Date (YYYY-MM-DD) : \"))\n",
    "end_date = str(input(\"End Date (YYYY-MM-DD) : \"))\n",
    "frequency_date = str(input(\"Frequency : \"))\n",
    "stock = str(input(\"Stock Name : \"))"
   ]
  },
  {
   "cell_type": "markdown",
   "id": "58d2a591",
   "metadata": {},
   "source": [
    "# Using Yahoo Financials module:\n",
    "A powerful financial data module used for pulling fundamental and technical stock data from Yahoo Finance\n",
    "\n",
    "We have used the NIFTY 50 index to retrieve the stock data"
   ]
  },
  {
   "cell_type": "code",
   "execution_count": 18,
   "id": "beginning-alpha",
   "metadata": {},
   "outputs": [],
   "source": [
    "yf1 = YahooFinancials('^NSEI')\n",
    "yf1_data = yf1.get_historical_price_data(start_date = start_date, end_date = end_date, time_interval = frequency_date)\n",
    "df1 = pd.DataFrame(yf1_data['^NSEI']['prices'])\n",
    "df1 = df1.drop('date', axis=1).rename(columns={'formatted_date': 'Date'})\n",
    "\n",
    "yf2 = YahooFinancials(stock)\n",
    "yf2_data = yf2.get_historical_price_data(start_date = start_date, end_date = end_date, time_interval = frequency_date)\n",
    "df2 = pd.DataFrame(yf2_data[stock]['prices'])\n",
    "df2 = df2.drop('date', axis=1).rename(columns={'formatted_date': 'Date'})"
   ]
  },
  {
   "cell_type": "markdown",
   "id": "62da3ed8",
   "metadata": {},
   "source": [
    "# Calculation of beta using regression:"
   ]
  },
  {
   "cell_type": "code",
   "execution_count": 19,
   "id": "dirty-fighter",
   "metadata": {},
   "outputs": [],
   "source": [
    "def calc_beta(df1, df2):\n",
    "    df_volume = pd.DataFrame(pd.merge(df1, df2, on = 'Date')[['Date', 'volume_x', 'volume_y']])\n",
    "    df_volume.dropna(inplace = True)\n",
    "    df_volume.columns = ['Date', 'Market Volume', 'Stock Volume']\n",
    "    \n",
    "    Q1 = df_volume['Market Volume'].quantile(0.25)\n",
    "    Q3 = df_volume['Market Volume'].quantile(0.75)\n",
    "    IQR = Q3 - Q1 \n",
    "    filter = (df_volume['Market Volume'] >= Q1 - 1.5 * IQR) & (df_volume['Market Volume'] <= Q3 + 1.5 *IQR)\n",
    "    df_volume = df_volume.loc[filter] \n",
    "\n",
    "    Q1 = df_volume['Stock Volume'].quantile(0.25)\n",
    "    Q3 = df_volume['Stock Volume'].quantile(0.75)\n",
    "    IQR = Q3 - Q1 \n",
    "    filter = (df_volume['Stock Volume'] >= Q1 - 1.5 * IQR) & (df_volume['Stock Volume'] <= Q3 + 1.5 *IQR)\n",
    "    df_volume = df_volume.loc[filter] \n",
    "    \n",
    "    df_volume['Market Volume'] = df_volume['Market Volume'].map(int)\n",
    "    df_volume['Stock Volume'] = df_volume['Stock Volume'].map(int)\n",
    "    df_returns = pd.DataFrame(columns = ['Market Returns', 'Stock Returns'])\n",
    "\n",
    "    for i in range(0, len(df_volume)-1):\n",
    "        df_returns.loc[i] = [100*(df_volume.iloc[i+1, 1] - df_volume.iloc[i, 1])/df_volume.iloc[i, 1], 100*(df_volume.iloc[i+1, 2] - df_volume.iloc[i, 2])/df_volume.iloc[i, 2]]\n",
    "\n",
    "    X = df_returns['Market Returns'].values.reshape(-1, 1)\n",
    "    y = df_returns['Stock Returns'].values.reshape(-1, 1)\n",
    "    linear_regressor = LinearRegression()\n",
    "    linear_regressor.fit(X, y)\n",
    "    y_pred = linear_regressor.predict(X)\n",
    "    plt.scatter(X, y)\n",
    "    plt.plot(X, y_pred, color='red')\n",
    "    plt.show()\n",
    "    \n",
    "    print('Beta = ', linear_regressor.coef_[0][0], '\\nIntercept = ', linear_regressor.intercept_[0])\n",
    "    \n",
    "    cov = np.cov(np.array([df_returns['Market Returns'], df_returns['Stock Returns']]))\n",
    "    var = np.var(df_returns['Market Returns'])\n",
    "\n",
    "    print('\\nCovariance Matrix : \\n\\n', cov, '\\n\\nVariance (Market Returns) : ', var)\n",
    "    \n",
    "    beta = int(cov[0][1])/var\n",
    "    print('\\nbeta ',beta)"
   ]
  },
  {
   "cell_type": "markdown",
   "id": "467b457c",
   "metadata": {},
   "source": [
    "# Alpha:\n",
    "1. Alpha is the excess return on an investment after adjusting for market-related volatility and random fluctuations. Alpha is one of the five major risk management indicators for mutual funds, stocks, and bonds. In a sense, it tells investors whether an asset has consistently performed better or worse than its beta predicts.\n",
    "\n",
    "2. Alpha is also a measure of risk. An alpha of -15 means the investment was far too risky given the return. An alpha of zero suggests that an asset has earned a return commensurate with the risk. Alpha of greater than zero means an investment outperformed, after adjusting for volatility."
   ]
  },
  {
   "cell_type": "code",
   "execution_count": 21,
   "id": "rocky-gazette",
   "metadata": {},
   "outputs": [
    {
     "data": {
      "image/png": "[encoded data removed]",
      "text/plain": [
       "<Figure size 432x288 with 1 Axes>"
      ]
     },
     "metadata": {
      "needs_background": "light"
     },
     "output_type": "display_data"
    },
    {
     "name": "stdout",
     "output_type": "stream",
     "text": [
      "Beta =  0.43540585299822576 \n",
      "Intercept =  3.5812209583696015\n",
      "\n",
      "Covariance Matrix : \n",
      "\n",
      " [[419.01654633 182.44225678]\n",
      " [182.44225678 999.09227198]] \n",
      "\n",
      "Variance (Market Returns) :  410.958535827895\n",
      "\n",
      "beta  0.4428670635429255\n"
     ]
    }
   ],
   "source": [
    "calc_beta(df1, df2)"
   ]
  },
  {
   "cell_type": "markdown",
   "id": "d5c4882c",
   "metadata": {},
   "source": [
    "Alpha is greater than 0 which implies that the given security is outperforming the market."
   ]
  },
  {
   "cell_type": "markdown",
   "id": "6fd8f96b",
   "metadata": {},
   "source": [
    "# Beta values:\n",
    "A Beta greater than 1 indicates that the security's price will be more volatile than the market and finally, a Beta less than 1 means that it will be less volatile than the market.\n",
    "\n",
    "<b>Beta values can be roughly characterized as follows:</b>\n",
    "\n",
    "1. b Less than 0: Negative Beta is possible but not likely. People thought gold stocks should have negative Betas but that hasn't been true.\n",
    "<br>\n",
    "<br>\n",
    "2. b Equal to 0: Cash under your mattress, assuming no inflation!\n",
    "<br>\n",
    "<br>\n",
    "3. b Between 0 and 1: Low-volatility investments (e.g., utility stocks).\n",
    "<br>\n",
    "<br>\n",
    "4. b Equal to 1: Matching the index.\n",
    "<br>\n",
    "<br>\n",
    "5. b Greater than 1: Anything more volatile than the index.\n",
    "<br>\n",
    "<br>\n",
    "6. b Much Greater than 1: Impossible, because the stock would be expected to go to zero on any market decline."
   ]
  },
  {
   "cell_type": "markdown",
   "id": "3f960830",
   "metadata": {},
   "source": [
    "Beta value of stock of reliance lies between 0 and 1, thus we can conclude that \n",
    "##### Price of reliance stock is less volatile then the market. "
   ]
  }
 ],
 "metadata": {
  "kernelspec": {
   "display_name": "Python 3",
   "language": "python",
   "name": "python3"
  },
  "language_info": {
   "codemirror_mode": {
    "name": "ipython",
    "version": 3
   },
   "file_extension": ".py",
   "mimetype": "text/x-python",
   "name": "python",
   "nbconvert_exporter": "python",
   "pygments_lexer": "ipython3",
   "version": "3.9.4"
  }
 },
 "nbformat": 4,
 "nbformat_minor": 5
}
